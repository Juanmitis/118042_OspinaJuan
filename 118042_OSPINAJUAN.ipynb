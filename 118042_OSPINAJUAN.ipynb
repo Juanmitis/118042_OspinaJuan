{
 "cells": [
  {
   "cell_type": "code",
   "execution_count": 1,
   "metadata": {},
   "outputs": [
    {
     "name": "stdout",
     "output_type": "stream",
     "text": [
      "Ingrese el número a calcular el valor absoluto: 5\n",
      "El valor absoluto de  5.0  es:  5.0\n"
     ]
    }
   ],
   "source": [
    "A = float(input('Ingrese el número a calcular el valor absoluto: '))\n",
    "if A < 0:\n",
    "    B = A*-1\n",
    "    print('El valor absoluto de ',A,' es: ',B)\n",
    "else:\n",
    "    print('El valor absoluto de ',A,' es: ',A)"
   ]
  },
  {
   "cell_type": "code",
   "execution_count": 2,
   "metadata": {},
   "outputs": [
    {
     "name": "stdout",
     "output_type": "stream",
     "text": [
      "Ingrese un número5\n",
      "Ingrese otro número0\n",
      "La diferencia entre  5  y  0  es: 5  y es un numero primo\n"
     ]
    }
   ],
   "source": [
    "A = int(input('Ingrese un número'))\n",
    "B = int(input('Ingrese otro número'))\n",
    "C = A-B\n",
    "if C < 0:\n",
    "    print('La diferencia entre ',A,' y ',B,' es:',C,' y no es un numero primo')\n",
    "elif C==2 or C==3 or C==5 or C==7:\n",
    "    print('La diferencia entre ',A,' y ',B,' es:',C,' y es un numero primo')\n",
    "elif C % 2 == 0 or C % 3 == 0 or C % 5 == 0 or C % 7 == 0:\n",
    "    print('La diferencia entre ',A,' y ',B,' es:',C,' y no es un numero primo')\n",
    "else:\n",
    "    print('La diferencia entre ',A,' y ',B,' es:',C,' y es un numero primo')"
   ]
  },
  {
   "cell_type": "code",
   "execution_count": 3,
   "metadata": {},
   "outputs": [
    {
     "name": "stdout",
     "output_type": "stream",
     "text": [
      "Los primeros 15 multiplos del 3 son:  [3, 6, 9, 12, 15, 18, 21, 24, 27, 30, 33, 36, 39, 42, 45]\n",
      "~~~~~~~~~~~~~~~~~~~~~~~~~~~~~~~~~~~~~~~~~~~~~~~~~~~~~~~~~~~~~~~~~~~~~~\n",
      "Despues de los primeros 15 multiplos del 3, los multiplos de 4 son:  [48, 52, 56, 60, 64, 68, 72, 76, 80, 84, 88, 92, 96, 100]\n"
     ]
    }
   ],
   "source": [
    "vec=[]\n",
    "aux = 1\n",
    "conta1 = 0\n",
    "j = 0\n",
    "mult_3=[]\n",
    "mult_4=[]\n",
    "for i in range(100):\n",
    "    vec.append(aux)\n",
    "    aux += 1\n",
    "for i in range(100):\n",
    "    if conta1 < 15:    \n",
    "        if  vec[i] % 3 == 0:\n",
    "            mult_3.append(vec[i])\n",
    "            conta1 += 1\n",
    "    if conta1 > 14: \n",
    "        if vec[i] % 4 == 0:\n",
    "            mult_4.append(vec[i])\n",
    "        \n",
    "print('Los primeros 15 multiplos del 3 son: ',mult_3)\n",
    "print('~~~~~~~~~~~~~~~~~~~~~~~~~~~~~~~~~~~~~~~~~~~~~~~~~~~~~~~~~~~~~~~~~~~~~~')\n",
    "print('Despues de los primeros 15 multiplos del 3, los multiplos de 4 son: '\n",
    "      ,mult_4)"
   ]
  },
  {
   "cell_type": "code",
   "execution_count": 5,
   "metadata": {},
   "outputs": [
    {
     "name": "stdout",
     "output_type": "stream",
     "text": [
      "Ingrese lea las coordenadas (x1,y1,r1) y (x2,y2,r2) que corresponden alcentro y al radio de dos círculos\n",
      "Ingrese lea las coordenadas del cirulo 1: \n",
      "Ingrese coordenada x1: 5\n",
      "Ingrese coordenada y1: 5\n",
      "Ingrese coordenada r1: 1\n",
      "Ingrese lea las coordenadas del cirulo 2: \n",
      "Ingrese coordenada x2: 5\n",
      "Ingrese coordenada y2: 2\n",
      "Ingrese coordenada r2: 3\n",
      "Ingrese la coordenas a del punto5\n",
      "Ingrese la coordenas b del punto2\n",
      "RESPUESTA A:El punto ingresado con las coordenadas  5.0  y  2.0  está afuera del circulo\n",
      "RESPUESTA B:El punto ingresado con las coordenadas  5.0  y  2.0  está dentro del circulo\n",
      "RESPUESTA D:El punto ingresado con las coordenadas  5.0  y  2.0  está afuera de los dos circulos\n"
     ]
    }
   ],
   "source": [
    "import math\n",
    "print('Ingrese lea las coordenadas (x1,y1,r1) y (x2,y2,r2) que corresponden al\\\n",
    "centro y al radio de dos círculos')\n",
    "print('Ingrese lea las coordenadas del cirulo 1: ') #Se solciitan datos\n",
    "x1 = float(input('Ingrese coordenada x1: '))#Se solcita ingresar coordenadas\n",
    "y1 = float(input('Ingrese coordenada y1: '))   \n",
    "r1 = float(input('Ingrese coordenada r1: '))   \n",
    "print('Ingrese lea las coordenadas del cirulo 2: ')\n",
    "x2 = float(input('Ingrese coordenada x2: '))  \n",
    "y2 = float(input('Ingrese coordenada y2: '))   \n",
    "r2 = float(input('Ingrese coordenada r2: '))\n",
    "\n",
    "\n",
    "a=float(input('Ingrese la coordenas a del punto' )) #Ingresar las coordenadas\n",
    "b=float(input('Ingrese la coordenas b del punto' )) #del punto a evaluar\n",
    "\n",
    "dist_c1x = abs(a-x1) #Se halla la distnacia del punto al ciruclo 1 - eje x\n",
    "dist_c1y = abs(b-y1) #Se halla la distancia del punto al circulo 1 - eje y\n",
    "dist_c1 = math.sqrt((dist_c1x**2)+(dist_c1y**2)) #Se determina la distancia  \\\n",
    "#del punto al centro del ciruclo 1\n",
    "\n",
    "dist_c2x = abs(a-x2)#Se halla la distnacia del punto al ciruclo 2 - eje x\n",
    "dist_c2y = abs(b-y2)#Se halla la distnacia del punto al ciruclo 2 - eje y\n",
    "dist_c2 = math.sqrt((dist_c2x**2)+(dist_c2y**2))#Se determina la distancia  \\\n",
    "#del punto al centro del ciruclo 2\n",
    "\n",
    "if dist_c1<=r1: # Se pone la condicion si la distancia del punto es menor al \\\n",
    "    #radio del circulo 1 que imprima que esta dentro de la circunferencia\n",
    "    print('RESPUESTA A:El punto ingresado con las coordenadas ',a,' y ',b,' es\\\n",
    "tá dentro del circulo1')\n",
    "else: #Si la distancia es del punto al centro del criculo 1 es mayor al radio \\\n",
    "    #entonces que imprima que estáfuera de la circunferencia\n",
    "    print('RESPUESTA A:El punto ingresado con las coordenadas ',a,' y ',b,' es\\\n",
    "tá afuera del circulo')\n",
    "\n",
    "if dist_c2<=r2: # Se pone la condicion si la distancia del punto es menor al \\\n",
    "    #radio del circulo 2 que imprima que esta dentro de la circunferencia\n",
    "    print('RESPUESTA B:El punto ingresado con las coordenadas ',a,' y ',b,' es\\\n",
    "tá dentro del circulo')\n",
    "else: #Si la distancia es del punto al centro del criculo 2 es mayor al radio \\\n",
    "    #entonces que imprima que estáfuera de la circunferencia\n",
    "    print('RESPUESTA B:El punto ingresado con las coordenadas ',a,' y ',b,' es\\\n",
    "tá afuera del circulo')\n",
    "\n",
    "if dist_c1<=r1 and dist_c2<=r2: #Ahora si cumple la condicion de que la \\\n",
    "    #distancia entre el punto y los centros de los circulos es menor que los \\\n",
    "    #respectivos de cada circulo entonces que imprima que el punto ingresado \\\n",
    "    #se encuentra de ambos circulos\n",
    "    print('RESPUESTA C:El punto ingresado con las coordenadas ',a,' y ',b,' es\\\n",
    "tá dentro de los dos circulos')\n",
    "else:#Si no cumple la condicion anterior entojnces imprime que el punto \\\n",
    "    #ingresado se encuentra fuera de ambos circulos\n",
    "    print('RESPUESTA D:El punto ingresado con las coordenadas ',a,' y ',b,' es\\\n",
    "tá afuera de los dos circulos')"
   ]
  },
  {
   "cell_type": "code",
   "execution_count": 7,
   "metadata": {},
   "outputs": [
    {
     "name": "stdout",
     "output_type": "stream",
     "text": [
      "Ingrese una cadena de texto: Hola, esto es una prueba XD :) 123 áÁ\n",
      "Se encontraron  0  letras vocales en mayúscula\n",
      "Se encontraron  2  letras con tilde\n",
      "Se encontraron  3  digitos\n",
      "Se encontraron  8  espacios\n",
      "Se encontraron  0  palabras reservadas\n"
     ]
    }
   ],
   "source": [
    "cadena=input('Ingrese una cadena de texto: ') #Se crea la cadena de texto\n",
    "vocales='AEIOU' #Se define las vocales\n",
    "cont_voc=0      #Se define un contador para las vocales de la cadena de texto\n",
    "tildes='ÁÉÍÓÚáéíóú' #Se definen las letras con tildes,se definen mayusculas y minusculas\n",
    "cont_til=0  #Se define un contador para las letras con tilde\n",
    "digitos='0123456789' #Se definen los digitos 0-9\n",
    "cont_dig=0 #Se define un contador para los digitos en la cadena de texto\n",
    "espacio=' ' #Se define el espacio\n",
    "cont_esp=0 #Se define un contador para la cantidad de espacios de la cadena\n",
    "reservadas=['False','None','True','and','as','assert','break','class',\\\n",
    "            'continue','def','del','elif','else','except','finally','for',\\\n",
    "            'from','global','if','import','in','is','lambda','nonlocal','not',\\\n",
    "            'or','pass','raise','return','try','while','with','yield']\n",
    "#Se definen las palabras reservadas en el lenguaje de python\n",
    "cont_reser=0 #Se define un contador para las palabras reservadas encontradas\n",
    "#Se crearon las variables a evaluar con su respectivo contador\n",
    "for i in range(len(cadena)): #ahora se evalúa cada simbolo alfanúmerico de la\n",
    "    #cadena de texto ingressada por el usuario\n",
    "    if cadena[i] in vocales:\n",
    "        cont_voc+=1\n",
    "    elif cadena[i] in tildes:\n",
    "        cont_til+=1\n",
    "    elif cadena[i] in digitos:\n",
    "        cont_dig+=1\n",
    "    elif cadena[i]==espacio:\n",
    "        cont_esp+=1\n",
    "#Se utilizo el comando in para que se itere en la longitud de la cadena\n",
    "#se evalua si está o no en cada variable creada. Si cumple la condición\n",
    "#se suma a su respectivo contador\n",
    "a = cadena.split() #Convierte la cadena en una lista\n",
    "\n",
    "for n, i in enumerate(a): #Se itera en los elementos de la lista y se compara\n",
    "    if i in reservadas: #con las palabras reservadas. Si cumple se suma\n",
    "        cont_reser+=1 #al contador\n",
    "print('Se encontraron ',cont_voc,' letras vocales en mayúscula')\n",
    "print('Se encontraron ',cont_til,' letras con tilde')\n",
    "print('Se encontraron ',cont_dig,' digitos')\n",
    "print('Se encontraron ',cont_esp,' espacios')\n",
    "print('Se encontraron ',cont_reser,' palabras reservadas')\n",
    "# Se imprime el resultado de cada contador respectivamente    \n"
   ]
  },
  {
   "cell_type": "code",
   "execution_count": 8,
   "metadata": {},
   "outputs": [
    {
     "name": "stdout",
     "output_type": "stream",
     "text": [
      "Ingrese una cadena de texto para organizar alfabéticamentesus letras: HOla\n",
      "HOal\n"
     ]
    }
   ],
   "source": [
    "'Este programa organiza alfabeticamente una cadena de texto ingresada'\n",
    "texto=input('Ingrese una cadena de texto para organizar alfabéticamente\\\n",
    "sus letras: ')\n",
    "#Variable que guarda una cadena de texto\n",
    "texto=texto.replace(' ','')\n",
    "texto=list(texto)\n",
    "#Se le quitan sus espacios y se convierte a una lista\n",
    "organizado=sorted(texto)\n",
    "#Se organiza la lista con el comando sorted\n",
    "print(''.join(organizado))\n",
    "#Se convierte de nuevo a cadena de texto\n"
   ]
  },
  {
   "cell_type": "code",
   "execution_count": 10,
   "metadata": {},
   "outputs": [
    {
     "name": "stdout",
     "output_type": "stream",
     "text": [
      "Cuántos números tiene la lista: 5\n",
      "Digite el número 1: 1\n",
      "Digite el número 2: 2\n",
      "Digite el número 3: 3\n",
      "Digite el número 4: 4\n",
      "Digite el número 5: 5\n",
      "La lista es:  [1.0, 2.0, 3.0, 4.0, 5.0]\n",
      "Ingresar un número para ingresar en su posición correspondiente: 9\n",
      "La nueva lista es:  [1.0, 2.0, 3.0, 4.0, 5.0, 9.0]\n"
     ]
    }
   ],
   "source": [
    "'Este programa lee una lista de números sólo en orden ascendente, luego \\\n",
    "inserta un número y lo ubica en su posición correspondiente'\n",
    "lista=[] #Se crea una lista vacía donde se ingresará la lista de números\n",
    "Len=int(input('Cuántos números tiene la lista: ')) #Tamaño de la lista\n",
    "dato_anterior=0  #Variable para verificar el orden ascendente de la lista\n",
    "\n",
    "for elemento in range(Len): #Ciclo para agregar cada elemento de la lista\n",
    "    lista.append(float(input(f'Digite el número {elemento+1}: ')))\n",
    "#Creación lista\n",
    "print('La lista es: ',lista) # Se imprime la lista con todos los elementos\n",
    "\n",
    "for i in lista: #Ciclo para verificar el orden ascendente de la lista\n",
    "    if i<dato_anterior: #Condición si la lista no está en orden ascendente\n",
    "        print('La lista ingresada es incorrecta, comience de nuevo.')\n",
    "        break # se rompe el ciclo, por lo tanto termina el programa\n",
    "    dato_anterior=i #Se cambia la variable para secuencia del orden en el ciclo\n",
    "else:\n",
    "    num=float(input('Ingresar un número para ingresar en su posición correspon\\\n",
    "diente: ')) #Se solicita ingresar un número para ser agregado a la lista\n",
    "    lista.append(num) #Comando append agrega a la lista el número ingresado\n",
    "    lista.sort() #Comand sort organiza la lista de forma ascendente\n",
    "    print('La nueva lista es: ',lista) #Imprime la lista final"
   ]
  },
  {
   "cell_type": "code",
   "execution_count": 11,
   "metadata": {},
   "outputs": [
    {
     "name": "stdout",
     "output_type": "stream",
     "text": [
      "Cuántos números tiene la lista: 5\n",
      " Digite el número 1: 2\n",
      " Digite el número 2: 3\n",
      " Digite el número 3: 1\n",
      " Digite el número 4: 5\n",
      " Digite el número 5: 6\n",
      "La lista es:  [2.0, 3.0, 1.0, 5.0, 6.0]\n",
      "Elsegundo número mayor de la lista es:  5.0\n"
     ]
    }
   ],
   "source": [
    "'Este programa determina el segundo número mayor de una lista de números\\\n",
    "ingresada'\n",
    "lista=[]  #Se crea una lista vacía \n",
    "Len=int(input('Cuántos números tiene la lista: ')) #Tamaño de la lista\n",
    "for elemento in range(Len): #ciclo para ingresar cada elemento de la lista\n",
    "    lista.append(float(input(f' Digite el número {elemento+1}: ')))\n",
    "\n",
    "print('La lista es: ',lista) #Imprime la lista ingresada\n",
    "max_1=max(lista) #Se extrae el maximo de la lista \n",
    "\n",
    "\n",
    "for i in lista: #Ahora se evalua cada elemento para extraer el primer numero \\\n",
    "    #mayor, cuantas veces se repita.\n",
    "    if i==max_1:\n",
    "        lista.remove(max_1) #Si cumple la condicion de ser igual lo remueve\n",
    "\n",
    "print('Elsegundo número mayor de la lista es: ',max(lista)) #imprime la respu\\\n",
    "#esta con el segundo número mayor"
   ]
  },
  {
   "cell_type": "code",
   "execution_count": 14,
   "metadata": {},
   "outputs": [
    {
     "name": "stdout",
     "output_type": "stream",
     "text": [
      "Dígite el valor de U(0): 2\n",
      "Dígite cuantos terminos quiere: 6\n",
      "[2, 1, 4, 2, 1, 4, 2]\n"
     ]
    }
   ],
   "source": [
    "U = int(input('Dígite el valor de U(0): ')) #Se solicita el valor inicial de U\n",
    "dig = int(input('Dígite cuantos terminos quiere: ')) #Cantidad de términos \n",
    "vec = [U] #Se crea un vector con el primer dato de la sucesión\n",
    "\n",
    "for i in range(dig): #Ciclo para evaluar cada numero entre el U inicial hasta\n",
    "    #U+dig hsta la cantidad de dígitos\n",
    "    \n",
    "    if U%2 == 0: #Condición que evalúa si un número es par\n",
    "        U = int(U / 2) #Se realiza la operación especifica para un número par\n",
    "        vec.append(U) #Se añade o agrega el valor resultante en el vector \n",
    "        \n",
    "    else: #Si no es par, entonces cumple la operación correspondiente para los \n",
    "        #impares\n",
    "        U = int(3*U + 1) #Se realiza la operación especifica para un número \n",
    "        #impar\n",
    "        vec.append(U) #Se añade o agrega el valor resultante en el vector \n",
    "        \n",
    "print(vec) #Imprime el vector resultante de la sucesión"
   ]
  },
  {
   "cell_type": "code",
   "execution_count": 17,
   "metadata": {},
   "outputs": [
    {
     "name": "stdout",
     "output_type": "stream",
     "text": [
      "Ingrese el número de filas de la matriz: 3\n",
      "Ingrese el número de columnas de la matriz: 3\n",
      "Escriba el elemento #1 de la fila 1:          1\n",
      "Escriba el elemento #2 de la fila 1:          2\n",
      "Escriba el elemento #3 de la fila 1:          3\n",
      "Escriba el elemento #1 de la fila 2:          4\n",
      "Escriba el elemento #2 de la fila 2:          5\n",
      "Escriba el elemento #3 de la fila 2:          6\n",
      "Escriba el elemento #1 de la fila 3:          7\n",
      "Escriba el elemento #2 de la fila 3:          8\n",
      "Escriba el elemento #3 de la fila 3:          9\n"
     ]
    },
    {
     "ename": "KeyboardInterrupt",
     "evalue": "",
     "output_type": "error",
     "traceback": [
      "\u001b[1;31m---------------------------------------------------------------------------\u001b[0m",
      "\u001b[1;31mKeyboardInterrupt\u001b[0m                         Traceback (most recent call last)",
      "\u001b[1;32m<ipython-input-17-08a321229b38>\u001b[0m in \u001b[0;36m<module>\u001b[1;34m\u001b[0m\n\u001b[0;32m     35\u001b[0m         \u001b[0mcont\u001b[0m \u001b[1;33m+=\u001b[0m\u001b[1;36m1\u001b[0m \u001b[1;31m#Contador para la cantidad de elementos extraídos\u001b[0m\u001b[1;33m\u001b[0m\u001b[1;33m\u001b[0m\u001b[0m\n\u001b[0;32m     36\u001b[0m \u001b[1;33m\u001b[0m\u001b[0m\n\u001b[1;32m---> 37\u001b[1;33m     \u001b[1;32mfor\u001b[0m \u001b[0mi\u001b[0m \u001b[1;32min\u001b[0m \u001b[0mrange\u001b[0m\u001b[1;33m(\u001b[0m\u001b[0mfil_final\u001b[0m\u001b[1;33m,\u001b[0m\u001b[0mfil_inicial\u001b[0m\u001b[1;33m,\u001b[0m\u001b[1;33m-\u001b[0m\u001b[1;36m1\u001b[0m\u001b[1;33m)\u001b[0m\u001b[1;33m:\u001b[0m\u001b[1;31m#Para el segundo recorrido\u001b[0m\u001b[1;33m\u001b[0m\u001b[1;33m\u001b[0m\u001b[0m\n\u001b[0m\u001b[0;32m     38\u001b[0m         \u001b[0mpos\u001b[0m \u001b[1;33m=\u001b[0m \u001b[0mM\u001b[0m\u001b[1;33m[\u001b[0m\u001b[0mi\u001b[0m\u001b[1;33m]\u001b[0m\u001b[1;33m[\u001b[0m\u001b[0mcol_inicial\u001b[0m\u001b[1;33m]\u001b[0m\u001b[1;31m#Se extrae el elemento de la matriz\u001b[0m\u001b[1;33m\u001b[0m\u001b[1;33m\u001b[0m\u001b[0m\n\u001b[0;32m     39\u001b[0m         \u001b[0mvec\u001b[0m\u001b[1;33m.\u001b[0m\u001b[0mappend\u001b[0m\u001b[1;33m(\u001b[0m\u001b[0mpos\u001b[0m\u001b[1;33m)\u001b[0m\u001b[1;31m#Se agrega al vector el dato extraido\u001b[0m\u001b[1;33m\u001b[0m\u001b[1;33m\u001b[0m\u001b[0m\n",
      "\u001b[1;31mKeyboardInterrupt\u001b[0m: "
     ]
    }
   ],
   "source": [
    "'ESTE PROGRAMA CREA UN VECTOR CON LOS ELEMENTOS DE UNA MATRIZ, EXTRAYEN\\\n",
    "DO LOS ELEMENTOS DE FORMA DE ESPIRAL EN SENTIDO HORARIO'\n",
    "\n",
    "M = [] #Se crea un vector vacío, se convertira en la matriz ingresada \n",
    "\n",
    "filas = int(input('Ingrese el número de filas de la matriz: '))\n",
    "columnas = int(input('Ingrese el número de columnas de la matriz: '))\n",
    "\n",
    "for i in range(filas): #Ciclo para el cual se pide ingresar cada elemento de la\n",
    "    #matriz, con su respectiva posición \n",
    "    M.append([]) #Se añade [] para las filas de la matriz\n",
    "    for j in range(columnas):\n",
    "        M[i].append(int(input(f'Escriba el elemento #{j+1} de la fila {i+1}: \\\n",
    "         '))) #Se agrega el valor ingresado a la sublista correspondiente\n",
    "\n",
    "#M = [[59, 99, 95, 12, 88],\n",
    "#     [63, 32, 49,  4, 73],\n",
    "#     [40, 28, 62, 78,  6],\n",
    "#     [45, 63, 51, 85, 26]]\n",
    "\n",
    "num_elementos = filas*columnas #Cantidad de elementos de la matriz\n",
    "vec = [] #Se crea el vector vacío donde irán los elementos  de la matriz\n",
    "col_final = columnas-1 #Última columna de la matriz\n",
    "col_inicial = 0 #primera columna de la matriz\n",
    "fil_final = filas-1 #Última fila de la matriz\n",
    "fil_inicial = 0 #Primera fila de la matriz\n",
    "cont=0 #Contador para la cantidad de elementos extraidos de la matriz\n",
    "\n",
    "while cont < num_elementos: #Ciclo hasta que se cumpla la cantidad de elementos\n",
    "    #extraídos de la matriz\n",
    "    for i in range(col_final,col_inicial,-1): #Para el primer recorrido, de \n",
    "        #izquierda a derecha desde el último elemento de la ultima sublista\n",
    "        pos = M[fil_final][i] #Se extrae el elemento de la matriz\n",
    "        vec.append(pos)#Se agrega al vector el dato extraido\n",
    "        cont +=1 #Contador para la cantidad de elementos extraídos\n",
    "    \n",
    "    for i in range(fil_final,fil_inicial,-1):#Para el segundo recorrido\n",
    "        pos = M[i][col_inicial]#Se extrae el elemento de la matriz\n",
    "        vec.append(pos)#Se agrega al vector el dato extraido\n",
    "        cont +=1 #Contador para la cantidad de elementos extraídos\n",
    "\n",
    "    for i in range(col_inicial,col_final):#Para el tercer recorrido\n",
    "        pos = M[fil_inicial][i]#Se extrae el elemento de la matriz\n",
    "        vec.append(pos)#Se agrega al vector el dato extraido\n",
    "        cont +=1 #Contador para la cantidad de elementos extraídos\n",
    "    \n",
    "    for i in range(fil_inicial,fil_final):#Para el cuarto recorrido\n",
    "        pos = M[i][col_final]#Se extrae el elemento de la matriz\n",
    "        vec.append(pos)#Se agrega al vector el dato extraido\n",
    "        cont +=1 #Contador para la cantidad de elementos extraídos\n",
    "    \n",
    "    col_final -= 1\n",
    "    col_inicial += 1\n",
    "    fil_final -= 1\n",
    "    fil_inicial += 1\n",
    "    #Se ajusta las posiciones de los proximos recorridos de los ciclos\n",
    "print(vec) #Imprime el vector resultante"
   ]
  },
  {
   "cell_type": "code",
   "execution_count": 18,
   "metadata": {},
   "outputs": [
    {
     "name": "stdout",
     "output_type": "stream",
     "text": [
      "Anchura del rectángulo: 5\n",
      "Altura del rectángulo: 3\n",
      "Carácter a Utilizar: *\n",
      "*  *  *  *  *  \n",
      "*  *  *  *  *  \n",
      "*  *  *  *  *  \n"
     ]
    }
   ],
   "source": [
    "#Diseñe una función de tres parámetros que pida la altura y anchura de un \n",
    "   #rectángulo, y el carácter a utilizar para dibujarlo.\n",
    "   \n",
    "def rect(a,b,c): #Define la función rect con los 3 parámetros a b c\n",
    "    for i in range(b): #crea las filas del rectángulo\n",
    "        for j in range(a): #crea las columnas del rectángulo\n",
    "            print(c,\" \", end=\"\")#imprime columnas\n",
    "        print()#imprime filas\n",
    "   \n",
    "anchura = int(input(\"Anchura del rectángulo: \")) #Ancho del rectángulo\n",
    "altura = int(input(\"Altura del rectángulo: \")) #Altura de la rectángulo\n",
    "caract = input(\"Carácter a Utilizar: \" ) #Carácter para imprimir filas,columnas \n",
    "rect(anchura,altura,caract) #Llamado a la función y los parámetros a usar"
   ]
  },
  {
   "cell_type": "code",
   "execution_count": 19,
   "metadata": {},
   "outputs": [
    {
     "name": "stdout",
     "output_type": "stream",
     "text": [
      "Anchura del triángulo: 5\n",
      "* \n",
      "* * \n",
      "* * * \n",
      "* * * * \n",
      "* * * * * \n",
      "* * * * \n",
      "* * * \n",
      "* * \n",
      "* \n"
     ]
    }
   ],
   "source": [
    "#Diseñe una función que pida la anchura de un triángulo y lo dibuje con \n",
    "   #caracteres producto (*).\n",
    "def tria1(a): #Define la función para imprimir la mitad superior del triángulo\n",
    "    for i in range(1, a + 1):#crea las filas del triángulo\n",
    "        for j in range(i):#Crea las columnas del triánuglo\n",
    "            print(\"* \", end=\"\")#imprime columnas\n",
    "        print()#imprime filas\n",
    "    return \n",
    "\n",
    "def tria2(a):#Define la función para imprimir la mitad inferior del triángulo\n",
    "    for i in range(1, a):#crea las filas del triángulo\n",
    "        for j in range(a - i):#Crea las columnas del triánuglo\n",
    "           print(\"* \", end=\"\")#imprime columnas\n",
    "        print()#imprime filas\n",
    "    return  \n",
    "    \n",
    "anchura = int(input(\"Anchura del triángulo: \"))#Ancho del tríangulo\n",
    "tria1(anchura)#Llamado a la función y los parámetros a usar\n",
    "tria2(anchura)#Llamado a la función y los parámetros a usar"
   ]
  },
  {
   "cell_type": "code",
   "execution_count": 20,
   "metadata": {},
   "outputs": [
    {
     "name": "stdout",
     "output_type": "stream",
     "text": [
      "Contador de años bisiestos\n",
      "Escriba un año: 212\n",
      "Escriba otro año posterior a 212: 3000\n",
      "De 212 a 3000 hay 2789 años, 677 de ellos bisiestos.\n"
     ]
    }
   ],
   "source": [
    "#Diseñe una función que pida dos años y escriba cuántos años bisiestos \n",
    "  #hay entre esas dos fechas (incluidos los dos años):\n",
    "  \n",
    "def es_bisiesto(t):#Define la función para saber si el año es bisiesto.\n",
    "    return t % 400 == 0 or (t % 100 != 0 and t % 4 == 0)\n",
    "\n",
    "print(\"Contador de años bisiestos\")\n",
    "inicio = int(input(\"Escriba un año: \"))#Año inicial del contador\n",
    "print(\"Escriba otro año posterior a\", str(inicio) + \": \", end=\"\")\n",
    "final = int(input())#Año final de contador\n",
    "while final < inicio:#Condicional de año inicial mayor que año menor\n",
    "    print(final, \"no es mayor que\", str(inicio) + \". Inténtelo de nuevo: \",\n",
    "          end=\"\")\n",
    "    final = int(input())\n",
    "\n",
    "a_bisiestos = 0 #total años bisiestos\n",
    "for i in range(inicio, final + 1):#contador años bisiestos\n",
    "    if es_bisiesto(i):\n",
    "        a_bisiestos += 1#si la función da que es año bisiesto suma uno al total\n",
    "\n",
    "print(\"De\", inicio, \"a\", final, \"hay\", final - inicio + 1, \"años,\",\n",
    "      a_bisiestos, \"de ellos bisiestos.\")#imprime la respuesta\n",
    " #final - inicial + 1 es para saber el número de años que han pasado entre los\n",
    " #2 años incluyendolos a ambos"
   ]
  },
  {
   "cell_type": "code",
   "execution_count": 21,
   "metadata": {},
   "outputs": [
    {
     "name": "stdout",
     "output_type": "stream",
     "text": [
      "Escriba el resultado de las siguientes operaciones:\n",
      "30 + 85 = 105\n",
      "¡Respuesta incorrecta!\n",
      "\n",
      "86 + 88 = 0\n",
      "¡Respuesta incorrecta!\n",
      "\n",
      "70 + 51 = 121\n",
      "¡Respuesta correcta!\n",
      "\n",
      "9 + 50 = 59\n",
      "¡Respuesta correcta!\n",
      "\n",
      "69 + 43 = 112\n",
      "¡Respuesta correcta!\n",
      "\n",
      "69 + 54 = 0\n",
      "¡Respuesta incorrecta!\n",
      "\n",
      "71 + 17 = 88\n",
      "¡Respuesta correcta!\n",
      "\n",
      "88 + 17 = 0\n",
      "¡Respuesta incorrecta!\n",
      "\n",
      "57 + 83 = 140\n",
      "¡Respuesta correcta!\n",
      "\n",
      "Programa terminado.\n"
     ]
    }
   ],
   "source": [
    "import random #importa la libreria Random\n",
    "def main():#Define la función\n",
    "    print(\"Escriba el resultado de las siguientes operaciones:\")\n",
    "\n",
    "    correctas = 0#Número de respuestas correctas\n",
    "\n",
    "    while correctas < 5: #condición para acabar con el ciclo\n",
    "        a = random.randrange(1, 101)#Número a aleatorio entre un rango\n",
    "        b = random.randrange(1, 101)#Número b aleatorio entre un rango\n",
    "        respuesta = int(input(f\"{a} + {b} = \"))#Respuesta del usuario a la suma\n",
    "        if respuesta == a + b:#Condicion para saber si la suma esta buena\n",
    "            correctas += 1#Suma uno si la respuesta es correcta\n",
    "            print(\"¡Respuesta correcta!\")\n",
    "        else:#Respuesta incorrecta\n",
    "            print(\"¡Respuesta incorrecta!\")\n",
    "        print()\n",
    "\n",
    "    print(\"Programa terminado.\")\n",
    "    \n",
    "main()#Llama a la función para ser ejecutada."
   ]
  },
  {
   "cell_type": "code",
   "execution_count": null,
   "metadata": {},
   "outputs": [
    {
     "name": "stdout",
     "output_type": "stream",
     "text": [
      "Dígame la longitud de la cadena: 5\n",
      "Intente adivinar la cadena: 12345\n",
      "Con 12345 ha adivinado 1 valores. Intente adivinar la cadena: 23451\n",
      "Con 23451 ha adivinado 0 valores. Intente adivinar la cadena: 23456\n",
      "Con 23456 ha adivinado 0 valores. Intente adivinar la cadena: 12345\n",
      "Con 12345 ha adivinado 1 valores. Intente adivinar la cadena: 24531\n"
     ]
    }
   ],
   "source": [
    "import random as ran #funcion que arroja números aleatorios\n",
    "\n",
    "long = int(input('Dígame la longitud de la cadena: ')) #Se solicita ingresar \\\n",
    "#la longitud de la cadena\n",
    "\n",
    "def funcion(): #Función que retorna el desarrollo del juego\n",
    "    contador_intentos=0 #Contador para la cantidad de intentos antes de acertar\n",
    "    num1 ='' #Cadena vacía que será nuestra cadena de números aleatorios\n",
    "    if long>=2 and long<=9: #Condición para el parametro del ejercicio a razon\\\n",
    "        #de la longitud de la cadena long ingresada\n",
    "        for i in range(long):#Sirve para crear la lista aleatoria\n",
    "            a = ran.randint(0,9) #Funcion que arroja numeros aleatorios\n",
    "            num = str(a) #El número entero se convierte en cadena \n",
    "            num1 = num1 + num #Se suman las cadenas \n",
    "#       print(num1)\n",
    "        \n",
    "        usuario = input('Intente adivinar la cadena: ') #El intento del usuario\n",
    "        contador_intentos += 1 # Se suma al 1 al contador de intentos\n",
    "        len_usuario = len(usuario) #Tamaño de la cadena ingresada\n",
    "        while  len_usuario != long: #Si la cadena es diferente a la general \\\n",
    "            #entonces genera un ciclo hasta que ingrese uno del mismo tamaño\n",
    "            usuario = input('La longitud de la cadena ingresada es diferente a\\\n",
    "la inicial. Intenete adivinar la cadena: ')\n",
    "            len_usuario = len(usuario) #Se determina la longitud de la nueva\\\n",
    "            #cadena\n",
    "        aciertos = 0 #Se crea un contador de aciertos\n",
    "        while aciertos < long: #Ciclo que se cumple hasta adivinar todos los \\\n",
    "            #digitos de la cadena\n",
    "            aciertos=0 #Se reinicia el contador de aciertos \n",
    "            for j in range(long): #Ciclo para recorrer y comparar la cadeba \\\n",
    "                #principal y la ingresada por el usuario \n",
    "                if num1[j] == usuario[j]: #Condicion si son iguales \n",
    "                    aciertos += 1 #Se suma el número de aciertos\n",
    "            if aciertos == long: #Conficion para finalizar el juego si la \\\n",
    "                #cantidad de aciertos es igual a longitud de la cadena inicial\n",
    "                print(f'Con {usuario} ha adivinado {aciertos} valores. Felicid\\\n",
    "ades')\n",
    "                print('Numero de intentos: ',contador_intentos)\n",
    "                break #fin del juego \n",
    "            else:\n",
    "                usuario = input(f'Con {usuario} ha adivinado {aciertos} valore\\\n",
    "s. Intente adivinar la cadena: ') #Se solicta intentar de nuevo \n",
    "                contador_intentos += 1 #Se suma al contador de intentos\n",
    "                len_usuario = len(usuario) #Longitud de la nueva cadena \n",
    "                while  len_usuario != long:#Si la cadena es diferente a la \\\n",
    "            #general entonces genera un ciclo hasta que ingrese uno del mismo\\\n",
    "            #tamaño\n",
    "                    usuario = input('La longitud de la cadena ingresada es dif\\\n",
    "erente a la inicial. Intenete adivinar la cadena: ') \n",
    "                    len_usuario = len(usuario)\n",
    "    else:\n",
    "        print('La longitud de cadena ingresada no se encuentra dentro del para\\\n",
    "metro del ejercicio.') #Se termina el ejercicio si la longitud de la cadena \\\n",
    "        #no cumple con los parametros.\n",
    "funcion()"
   ]
  }
 ],
 "metadata": {
  "kernelspec": {
   "display_name": "Python 3",
   "language": "python",
   "name": "python3"
  },
  "language_info": {
   "codemirror_mode": {
    "name": "ipython",
    "version": 3
   },
   "file_extension": ".py",
   "mimetype": "text/x-python",
   "name": "python",
   "nbconvert_exporter": "python",
   "pygments_lexer": "ipython3",
   "version": "3.7.3"
  }
 },
 "nbformat": 4,
 "nbformat_minor": 2
}
